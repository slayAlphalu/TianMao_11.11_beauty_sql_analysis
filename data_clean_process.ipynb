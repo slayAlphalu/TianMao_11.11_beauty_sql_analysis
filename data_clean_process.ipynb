{
 "cells": [
  {
   "cell_type": "code",
   "execution_count": 15,
   "metadata": {},
   "outputs": [],
   "source": [
    "import pandas as pd\n",
    "data=pd.read_csv('beauty.csv')"
   ]
  },
  {
   "cell_type": "code",
   "execution_count": 17,
   "metadata": {},
   "outputs": [],
   "source": [
    "data.columns = ['time', 'itemID', \n",
    "            'itemname', 'price', \n",
    "            'salenum',\n",
    "    'commentnum','brand','totalsale']"
   ]
  },
  {
   "cell_type": "code",
   "execution_count": 18,
   "metadata": {},
   "outputs": [],
   "source": [
    "data=data.drop_duplicates(subset=None, keep='first', inplace=False)"
   ]
  },
  {
   "cell_type": "code",
   "execution_count": 19,
   "metadata": {},
   "outputs": [
    {
     "data": {
      "text/plain": [
       "(27511, 8)"
      ]
     },
     "execution_count": 19,
     "metadata": {},
     "output_type": "execute_result"
    }
   ],
   "source": [
    "data.shape"
   ]
  },
  {
   "cell_type": "code",
   "execution_count": 20,
   "metadata": {},
   "outputs": [
    {
     "data": {
      "text/plain": [
       "time           object\n",
       "itemID         object\n",
       "itemname       object\n",
       "price         float64\n",
       "salenum       float64\n",
       "commentnum    float64\n",
       "brand          object\n",
       "totalsale     float64\n",
       "dtype: object"
      ]
     },
     "execution_count": 20,
     "metadata": {},
     "output_type": "execute_result"
    }
   ],
   "source": [
    "data.dtypes"
   ]
  },
  {
   "cell_type": "code",
   "execution_count": 21,
   "metadata": {},
   "outputs": [],
   "source": [
    "cat=['time','itemID','itemname','brand']\n",
    "num=['price','salenum','commentnum','totalsale']"
   ]
  },
  {
   "cell_type": "code",
   "execution_count": 26,
   "metadata": {},
   "outputs": [],
   "source": [
    "# Impute NA values for categorical values\n",
    "from sklearn.impute import SimpleImputer\n",
    "import numpy as np\n",
    "imp_na = SimpleImputer(strategy = \"constant\", missing_values=np.nan, fill_value = \"N/A\")\n",
    "imp_na.fit(data[cat])\n",
    "data[cat]=imp_na.transform(data[cat])"
   ]
  },
  {
   "cell_type": "markdown",
   "metadata": {},
   "source": [
    "impute mean values for nan numerical values"
   ]
  },
  {
   "cell_type": "code",
   "execution_count": 28,
   "metadata": {},
   "outputs": [],
   "source": [
    "data=data.fillna(data.mean())"
   ]
  },
  {
   "cell_type": "code",
   "execution_count": 29,
   "metadata": {},
   "outputs": [
    {
     "data": {
      "text/html": [
       "<div>\n",
       "<style scoped>\n",
       "    .dataframe tbody tr th:only-of-type {\n",
       "        vertical-align: middle;\n",
       "    }\n",
       "\n",
       "    .dataframe tbody tr th {\n",
       "        vertical-align: top;\n",
       "    }\n",
       "\n",
       "    .dataframe thead th {\n",
       "        text-align: right;\n",
       "    }\n",
       "</style>\n",
       "<table border=\"1\" class=\"dataframe\">\n",
       "  <thead>\n",
       "    <tr style=\"text-align: right;\">\n",
       "      <th></th>\n",
       "      <th>time</th>\n",
       "      <th>itemID</th>\n",
       "      <th>itemname</th>\n",
       "      <th>price</th>\n",
       "      <th>salenum</th>\n",
       "      <th>commentnum</th>\n",
       "      <th>brand</th>\n",
       "      <th>totalsale</th>\n",
       "    </tr>\n",
       "  </thead>\n",
       "  <tbody>\n",
       "    <tr>\n",
       "      <th>0</th>\n",
       "      <td>11/14/16</td>\n",
       "      <td>A18177105952</td>\n",
       "      <td>CHANDO/自然堂凝时鲜颜肌活乳液120ML 淡化细纹补水滋润专柜正品</td>\n",
       "      <td>194.0</td>\n",
       "      <td>8122.0</td>\n",
       "      <td>1492.0</td>\n",
       "      <td>自然堂</td>\n",
       "      <td>1575668.0</td>\n",
       "    </tr>\n",
       "    <tr>\n",
       "      <th>1</th>\n",
       "      <td>11/14/16</td>\n",
       "      <td>A18177226992</td>\n",
       "      <td>CHANDO/自然堂活泉保湿修护精华水（滋润型135ml 补水控油爽肤水</td>\n",
       "      <td>99.0</td>\n",
       "      <td>12668.0</td>\n",
       "      <td>589.0</td>\n",
       "      <td>自然堂</td>\n",
       "      <td>1254132.0</td>\n",
       "    </tr>\n",
       "    <tr>\n",
       "      <th>2</th>\n",
       "      <td>11/14/16</td>\n",
       "      <td>A18178033846</td>\n",
       "      <td>CHANDO/自然堂 男士劲爽控油洁面膏 100g 深层清洁  男士洗面奶</td>\n",
       "      <td>38.0</td>\n",
       "      <td>25805.0</td>\n",
       "      <td>4287.0</td>\n",
       "      <td>自然堂</td>\n",
       "      <td>980590.0</td>\n",
       "    </tr>\n",
       "    <tr>\n",
       "      <th>3</th>\n",
       "      <td>11/14/16</td>\n",
       "      <td>A18178045259</td>\n",
       "      <td>CHANDO/自然堂雪域精粹纯粹滋润霜（清爽型）50g补水保湿滋润霜</td>\n",
       "      <td>139.0</td>\n",
       "      <td>5196.0</td>\n",
       "      <td>618.0</td>\n",
       "      <td>自然堂</td>\n",
       "      <td>722244.0</td>\n",
       "    </tr>\n",
       "    <tr>\n",
       "      <th>4</th>\n",
       "      <td>11/14/16</td>\n",
       "      <td>A18178129035</td>\n",
       "      <td>自然堂 雪域纯粹滋润洗颜霜 110g  补水保湿  洗面奶女 深层清洁</td>\n",
       "      <td>88.0</td>\n",
       "      <td>42858.0</td>\n",
       "      <td>8426.0</td>\n",
       "      <td>自然堂</td>\n",
       "      <td>3771504.0</td>\n",
       "    </tr>\n",
       "  </tbody>\n",
       "</table>\n",
       "</div>"
      ],
      "text/plain": [
       "       time        itemID                               itemname  price  \\\n",
       "0  11/14/16  A18177105952   CHANDO/自然堂凝时鲜颜肌活乳液120ML 淡化细纹补水滋润专柜正品  194.0   \n",
       "1  11/14/16  A18177226992   CHANDO/自然堂活泉保湿修护精华水（滋润型135ml 补水控油爽肤水   99.0   \n",
       "2  11/14/16  A18178033846  CHANDO/自然堂 男士劲爽控油洁面膏 100g 深层清洁  男士洗面奶   38.0   \n",
       "3  11/14/16  A18178045259     CHANDO/自然堂雪域精粹纯粹滋润霜（清爽型）50g补水保湿滋润霜  139.0   \n",
       "4  11/14/16  A18178129035    自然堂 雪域纯粹滋润洗颜霜 110g  补水保湿  洗面奶女 深层清洁   88.0   \n",
       "\n",
       "   salenum  commentnum brand  totalsale  \n",
       "0   8122.0      1492.0   自然堂  1575668.0  \n",
       "1  12668.0       589.0   自然堂  1254132.0  \n",
       "2  25805.0      4287.0   自然堂   980590.0  \n",
       "3   5196.0       618.0   自然堂   722244.0  \n",
       "4  42858.0      8426.0   自然堂  3771504.0  "
      ]
     },
     "execution_count": 29,
     "metadata": {},
     "output_type": "execute_result"
    }
   ],
   "source": [
    "data.head()"
   ]
  },
  {
   "cell_type": "code",
   "execution_count": 30,
   "metadata": {},
   "outputs": [],
   "source": [
    "data.to_csv('./beauty11.csv')\n"
   ]
  }
 ],
 "metadata": {
  "kernelspec": {
   "display_name": "Python 3",
   "language": "python",
   "name": "python3"
  },
  "language_info": {
   "codemirror_mode": {
    "name": "ipython",
    "version": 3
   },
   "file_extension": ".py",
   "mimetype": "text/x-python",
   "name": "python",
   "nbconvert_exporter": "python",
   "pygments_lexer": "ipython3",
   "version": "3.7.1"
  }
 },
 "nbformat": 4,
 "nbformat_minor": 2
}
